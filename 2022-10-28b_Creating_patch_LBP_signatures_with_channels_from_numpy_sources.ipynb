{
 "cells": [
  {
   "cell_type": "markdown",
   "id": "6b15e603",
   "metadata": {},
   "source": [
    "# Create object LBP signatures - after frequency counted has been made into numpy\n",
    "This code attempts to combine the LBP numbers for (by doing a frequency count across them) individual object (simulated nuclei). This one is doing this with one property difference"
   ]
  },
  {
   "cell_type": "code",
   "execution_count": 1,
   "id": "14f2ec5e",
   "metadata": {},
   "outputs": [
    {
     "name": "stdout",
     "output_type": "stream",
     "text": [
      "Loading Linux\n"
     ]
    }
   ],
   "source": [
    "import matplotlib.pyplot as plt\n",
    "import numpy as np\n",
    "import math\n",
    "from PIL import Image\n",
    "#import cv2\n",
    "import skimage\n",
    "import tifffile\n",
    "import os\n",
    "import pandas as pd\n",
    "#import napari\n",
    "#print(napari.__version__)\n",
    "#from dask_image.imread import imread\n",
    "#import dask.array as da\n",
    "#import io\n",
    "\n",
    "import platform\n",
    "if platform.system() == 'Windows':\n",
    "    fileroot = 'X:/'\n",
    "    print('Loading Windows')\n",
    "if platform.system() == 'Linux':\n",
    "    fileroot = '/home/jovyan/'\n",
    "    print('Loading Linux')\n",
    "if os.path.exists('/home/ubuntu/Documents/'):\n",
    "    fileroot = '/home/ubuntu/Documents/'\n",
    "if os.path.exists('/nfs/team283_imaging/') and not os.path.exists('/home/jovyan/'):\n",
    "    fileroot = '/nfs/team283_imaging/'\n",
    "\n",
    "colors_new=['#0072b2','#d55e00','#009e73', '#cc79a7','#f0e442','#56b4e9']\n",
    "\n",
    "import sys\n",
    "sys.path.append(fileroot+'VU_TEX/Ben_utilities/')\n",
    "import useful_functions as uf\n",
    "import numba_funcs as nf"
   ]
  },
  {
   "cell_type": "code",
   "execution_count": 2,
   "id": "f8aaf664",
   "metadata": {
    "scrolled": true
   },
   "outputs": [
    {
     "data": {
      "text/plain": [
       "'/home/jovyan/'"
      ]
     },
     "execution_count": 2,
     "metadata": {},
     "output_type": "execute_result"
    }
   ],
   "source": [
    "fileroot"
   ]
  },
  {
   "cell_type": "code",
   "execution_count": 3,
   "id": "7cb181fd",
   "metadata": {},
   "outputs": [],
   "source": [
    "pd.set_option('display.max_columns', None)  \n",
    "pd.set_option('display.expand_frame_repr', False)\n",
    "pd.set_option('max_colwidth', None)"
   ]
  },
  {
   "cell_type": "code",
   "execution_count": 4,
   "id": "f8d95a21",
   "metadata": {},
   "outputs": [],
   "source": [
    "maxi = 3328 #this is the maximum value that the LBP could get to"
   ]
  },
  {
   "cell_type": "code",
   "execution_count": 5,
   "id": "78c946a9",
   "metadata": {},
   "outputs": [],
   "source": [
    "from tqdm import tqdm\n",
    "from scipy import ndimage as ndi\n",
    "from functools import partial\n",
    "from copy import deepcopy\n",
    "from itertools import product\n",
    "from datetime import datetime\n",
    "from tqdm.notebook import trange, tqdm\n",
    "import anndata as ad"
   ]
  },
  {
   "cell_type": "markdown",
   "id": "aff6281c",
   "metadata": {},
   "source": [
    "### Loading the data"
   ]
  },
  {
   "cell_type": "code",
   "execution_count": 6,
   "id": "a92e9040",
   "metadata": {},
   "outputs": [],
   "source": [
    "patchsize = 242"
   ]
  },
  {
   "cell_type": "code",
   "execution_count": 7,
   "id": "112bf9cc",
   "metadata": {},
   "outputs": [
    {
     "data": {
      "text/plain": [
       "['/mnt/hdd/bwoodhams/2023-07-05_Thymus/2023-07-05b_image_conversion_and_cropping/V11J11-099__Z4_FO3_01__A1.tif']"
      ]
     },
     "execution_count": 7,
     "metadata": {},
     "output_type": "execute_result"
    }
   ],
   "source": [
    "directory_originals = ['/mnt/hdd/bwoodhams/2023-07-05_Thymus/2023-07-05b_image_conversion_and_cropping/']\n",
    "#directory_originals = [fileroot + 'team283_imaging/0ExternalData/2022-09-01_IVY_GAP/2022-08-31_originals/']\n",
    "filenames_originals = ['V11J11-099__Z4_FO3_01__A1.tif']\n",
    "#filenames_originals = os.listdir(directory_originals[0])\n",
    "#filenames_originals = [file.replace('.npy', '.jpg') for file in filenames_originals]\n",
    "#fullpaths_originals = [x + y for x,y in zip(directory_originals, filenames_originals)]\n",
    "fullpaths_originals = [directory_originals[0] + y for y in filenames_originals if os.path.exists(directory_originals[0] + y)]\n",
    "fullpaths_originals"
   ]
  },
  {
   "cell_type": "code",
   "execution_count": 8,
   "id": "1141f71a",
   "metadata": {},
   "outputs": [
    {
     "name": "stdout",
     "output_type": "stream",
     "text": [
      "/mnt/hdd/bwoodhams/2023-07-05_Thymus/2023-08-30_haralick/2023-08-31_Haralick_top/\n"
     ]
    }
   ],
   "source": [
    "directory_lbp_top = '/mnt/hdd/bwoodhams/2023-07-05_Thymus/2023-08-30_haralick/2023-08-31_Haralick_top/'\n",
    "print(directory_lbp_top)\n",
    "#should be aligned with fullpaths_originals"
   ]
  },
  {
   "cell_type": "code",
   "execution_count": 9,
   "id": "3e49c083",
   "metadata": {},
   "outputs": [],
   "source": [
    "#directory_gt = fileroot + 'team283_imaging/0ExternalData/2022-09-01_IVY_GAP/2022-09-02_integer_annotations/'\n",
    "#directory_gt = fileroot + 'VU_TEX/playground_Ben/2022-08-26_IVY_GAP/2022-11-09_Subset_optimisation_LBP_v18_patchsize_200/2022-11-09_integer_annotations_binned_patchsize_200/'\n",
    "#filename_gts = os.listdir(directory_gt)\n",
    "#filename_gts = [each.replace('.jpg', '_annotation.npy') for each in filenames_originals]\n",
    "#fullpaths_gts = [directory_gt + filename_gt for filename_gt in filename_gts if os.path.exists(directory_gt + filename_gt)]\n",
    "#fullpaths_gts"
   ]
  },
  {
   "cell_type": "code",
   "execution_count": 10,
   "id": "edd8f007",
   "metadata": {},
   "outputs": [],
   "source": [
    "#directory_patches_indices = fileroot + 'VU_TEX/playground_Ben/2021-12-20_Thymus/2021-12-20b_Initial_image_conversions/2021-12-20_Patches/'\n",
    "#filename_patches_indices = 'HnE_norm_V10S15_patchsize_200_indices_from_1.npy'\n",
    "#fullpaths_patches_indices = [directory_patches_indices + filename_patches_indices]"
   ]
  },
  {
   "cell_type": "code",
   "execution_count": 11,
   "id": "ca254e90",
   "metadata": {},
   "outputs": [],
   "source": [
    "directory_out = '/mnt/hdd/bwoodhams/2023-07-05_Thymus/2023-08-30_haralick/2023-08-31_Haralick_analysis/'\n",
    "filename_out_base = 'V11J11-099__Z4_FO3_01__A1_Haralick_'"
   ]
  },
  {
   "cell_type": "code",
   "execution_count": 12,
   "id": "edb1e2fa",
   "metadata": {},
   "outputs": [
    {
     "data": {
      "text/html": [
       "<div>\n",
       "<style scoped>\n",
       "    .dataframe tbody tr th:only-of-type {\n",
       "        vertical-align: middle;\n",
       "    }\n",
       "\n",
       "    .dataframe tbody tr th {\n",
       "        vertical-align: top;\n",
       "    }\n",
       "\n",
       "    .dataframe thead th {\n",
       "        text-align: right;\n",
       "    }\n",
       "</style>\n",
       "<table border=\"1\" class=\"dataframe\">\n",
       "  <thead>\n",
       "    <tr style=\"text-align: right;\">\n",
       "      <th></th>\n",
       "      <th>original_index</th>\n",
       "      <th>output_filename</th>\n",
       "      <th>image_width</th>\n",
       "      <th>image_height</th>\n",
       "    </tr>\n",
       "  </thead>\n",
       "  <tbody>\n",
       "    <tr>\n",
       "      <th>0</th>\n",
       "      <td>0</td>\n",
       "      <td>V11J11-099__Z4_FO3_01__A1.tif</td>\n",
       "      <td>28846</td>\n",
       "      <td>25794</td>\n",
       "    </tr>\n",
       "  </tbody>\n",
       "</table>\n",
       "</div>"
      ],
      "text/plain": [
       "   original_index                output_filename  image_width  image_height\n",
       "0               0  V11J11-099__Z4_FO3_01__A1.tif        28846         25794"
      ]
     },
     "execution_count": 12,
     "metadata": {},
     "output_type": "execute_result"
    }
   ],
   "source": [
    "#directory_images_metadata = fileroot + 'team283_imaging/' + '0ExternalData/2022-09-01_IVY_GAP/'\n",
    "#directory_images_metadata = fileroot + '0ExternalData/2022-09-01_IVY_GAP/'\n",
    "#filename_images_metadata = '2022-09-01_IVY_GAP_metadata.csv'\n",
    "#df_images_metadata = pd.read_csv(directory_images_metadata + filename_images_metadata, index_col=0)\n",
    "#df_images_metadata\n",
    "\n",
    "df_images_metadata = pd.DataFrame({'original_index': [0], 'output_filename':filenames_originals, \n",
    "                                 })\n",
    "this_shape = skimage.io.imread(fullpaths_originals[0]).shape\n",
    "df_images_metadata['image_width'] = this_shape[0]\n",
    "df_images_metadata['image_height'] = this_shape[1]\n",
    "df_images_metadata"
   ]
  },
  {
   "cell_type": "code",
   "execution_count": 13,
   "id": "f6abc753",
   "metadata": {},
   "outputs": [],
   "source": [
    "#df_images_metadata = df_images_metadata.loc[df_images_metadata['original_index'].isin([50, 594, 406, 418, \n",
    "#267, 290, 474, 231, 498, 217, \n",
    "#309, 544])]\n",
    "#df_images_metadata"
   ]
  },
  {
   "cell_type": "code",
   "execution_count": 14,
   "id": "2270cac6",
   "metadata": {},
   "outputs": [],
   "source": [
    "#directory_colors_metadata = fileroot + 'team283_imaging/' + '0ExternalData/2022-09-01_IVY_GAP/'\n",
    "#directory_colors_metadata = fileroot + '0ExternalData/2022-09-01_IVY_GAP/'\n",
    "#filename_colors_metadata = '2022-09-02_colors_for_IVY_GAP.csv'\n",
    "#df_colors = pd.read_csv(directory_colors_metadata + filename_colors_metadata, index_col=0)\n",
    "#df_colors"
   ]
  },
  {
   "cell_type": "code",
   "execution_count": 15,
   "id": "30b6156f",
   "metadata": {},
   "outputs": [
    {
     "name": "stdout",
     "output_type": "stream",
     "text": [
      "Ch_0_METHOD_haralickMean_npoints_13_distance_1\n",
      "13\n",
      "Ch_1_METHOD_haralickMean_npoints_13_distance_1\n",
      "13\n",
      "Ch_2_METHOD_haralickMean_npoints_13_distance_1\n",
      "13\n",
      "['Ch_0_METHOD_haralickMean_npoints_13_distance_1_value_0', 'Ch_0_METHOD_haralickMean_npoints_13_distance_1_value_1', 'Ch_0_METHOD_haralickMean_npoints_13_distance_1_value_2', 'Ch_0_METHOD_haralickMean_npoints_13_distance_1_value_3', 'Ch_0_METHOD_haralickMean_npoints_13_distance_1_value_4', 'Ch_0_METHOD_haralickMean_npoints_13_distance_1_value_5', 'Ch_0_METHOD_haralickMean_npoints_13_distance_1_value_6', 'Ch_0_METHOD_haralickMean_npoints_13_distance_1_value_7', 'Ch_0_METHOD_haralickMean_npoints_13_distance_1_value_8', 'Ch_0_METHOD_haralickMean_npoints_13_distance_1_value_9', 'Ch_0_METHOD_haralickMean_npoints_13_distance_1_value_10', 'Ch_0_METHOD_haralickMean_npoints_13_distance_1_value_11', 'Ch_0_METHOD_haralickMean_npoints_13_distance_1_value_12', 'Ch_1_METHOD_haralickMean_npoints_13_distance_1_value_0', 'Ch_1_METHOD_haralickMean_npoints_13_distance_1_value_1', 'Ch_1_METHOD_haralickMean_npoints_13_distance_1_value_2', 'Ch_1_METHOD_haralickMean_npoints_13_distance_1_value_3', 'Ch_1_METHOD_haralickMean_npoints_13_distance_1_value_4', 'Ch_1_METHOD_haralickMean_npoints_13_distance_1_value_5', 'Ch_1_METHOD_haralickMean_npoints_13_distance_1_value_6', 'Ch_1_METHOD_haralickMean_npoints_13_distance_1_value_7', 'Ch_1_METHOD_haralickMean_npoints_13_distance_1_value_8', 'Ch_1_METHOD_haralickMean_npoints_13_distance_1_value_9', 'Ch_1_METHOD_haralickMean_npoints_13_distance_1_value_10', 'Ch_1_METHOD_haralickMean_npoints_13_distance_1_value_11', 'Ch_1_METHOD_haralickMean_npoints_13_distance_1_value_12', 'Ch_2_METHOD_haralickMean_npoints_13_distance_1_value_0', 'Ch_2_METHOD_haralickMean_npoints_13_distance_1_value_1', 'Ch_2_METHOD_haralickMean_npoints_13_distance_1_value_2', 'Ch_2_METHOD_haralickMean_npoints_13_distance_1_value_3', 'Ch_2_METHOD_haralickMean_npoints_13_distance_1_value_4', 'Ch_2_METHOD_haralickMean_npoints_13_distance_1_value_5', 'Ch_2_METHOD_haralickMean_npoints_13_distance_1_value_6', 'Ch_2_METHOD_haralickMean_npoints_13_distance_1_value_7', 'Ch_2_METHOD_haralickMean_npoints_13_distance_1_value_8', 'Ch_2_METHOD_haralickMean_npoints_13_distance_1_value_9', 'Ch_2_METHOD_haralickMean_npoints_13_distance_1_value_10', 'Ch_2_METHOD_haralickMean_npoints_13_distance_1_value_11', 'Ch_2_METHOD_haralickMean_npoints_13_distance_1_value_12']\n"
     ]
    }
   ],
   "source": [
    "# make list of methods\n",
    "methods_list = os.listdir(directory_lbp_top)\n",
    "methods_list.sort(key=partial(uf.getvaluefromstringbest, variable='distance', mydtype=int))\n",
    "methods_list.sort(key=partial(uf.getvaluefromstringbest, variable='Ch', mydtype=int))\n",
    "methods_list = [each for each in methods_list if\n",
    "               uf.getvaluefromstringbest(each, variable='distance', mydtype=int) < 200]\n",
    "method_list_cols = []\n",
    "for each in methods_list:\n",
    "    print(each)\n",
    "    this_npoints = uf.getvaluefromstringbest(each, variable='npoints', mydtype=int)\n",
    "    for i in range(0, this_npoints):\n",
    "        method_list_cols.append(each+'_value_'+str(i))\n",
    "    print(this_npoints)\n",
    "print(method_list_cols)"
   ]
  },
  {
   "cell_type": "code",
   "execution_count": 16,
   "id": "199c5e8d",
   "metadata": {},
   "outputs": [
    {
     "data": {
      "text/plain": [
       "39"
      ]
     },
     "execution_count": 16,
     "metadata": {},
     "output_type": "execute_result"
    }
   ],
   "source": [
    "len(method_list_cols)"
   ]
  },
  {
   "cell_type": "code",
   "execution_count": 17,
   "id": "e6668a97",
   "metadata": {},
   "outputs": [
    {
     "data": {
      "text/plain": [
       "12614"
      ]
     },
     "execution_count": 17,
     "metadata": {},
     "output_type": "execute_result"
    }
   ],
   "source": [
    "overall_number_of_patches = 0\n",
    "for height, width in zip(df_images_metadata['image_height'], df_images_metadata['image_width']):\n",
    "    height_sp = math.floor(height/patchsize)\n",
    "    width_sp = math.floor(width/patchsize)\n",
    "    overall_number_of_patches += height_sp*width_sp\n",
    "overall_number_of_patches"
   ]
  },
  {
   "cell_type": "code",
   "execution_count": 18,
   "id": "a0b9a982",
   "metadata": {
    "scrolled": true
   },
   "outputs": [
    {
     "data": {
      "application/vnd.jupyter.widget-view+json": {
       "model_id": "1a6b39e3dd3c4c4980001afcb91d8b39",
       "version_major": 2,
       "version_minor": 0
      },
      "text/plain": [
       "  0%|          | 0/1 [00:00<?, ?it/s]"
      ]
     },
     "metadata": {},
     "output_type": "display_data"
    },
    {
     "name": "stdout",
     "output_type": "stream",
     "text": [
      "0 12614\n"
     ]
    }
   ],
   "source": [
    "anndata_list = []\n",
    "anndata_concat = ad.AnnData()\n",
    "out_array = np.zeros((overall_number_of_patches, len(method_list_cols)), dtype=np.uint16)\n",
    "obs_list = []\n",
    "m = 0\n",
    "n = 0\n",
    "\n",
    "#for j, output_filename, output_fname_annotated in tqdm(zip(df_images_metadata['original_index'], \n",
    "#                                                      df_images_metadata['output_filename'],\n",
    "#                                                     df_images_metadata['output_filename_annotations']),\n",
    "#                                                      total = len(df_images_metadata)):\n",
    "for j, output_filename in tqdm(zip(df_images_metadata['original_index'], \n",
    "                                                      df_images_metadata['output_filename'],\n",
    "                                                     ),\n",
    "                                                      total = len(df_images_metadata)):\n",
    "\n",
    "#    print(j, output_filename, output_fname_annotated)\n",
    "    \n",
    "    fpath_for_shape = directory_lbp_top + methods_list[0] + '/' + output_filename.replace('.tif', '.npy')\n",
    "    this_test_array = np.load(fpath_for_shape, mmap_mode='r')\n",
    "    this_shape = this_test_array.shape\n",
    "    this_dtype = this_test_array.dtype\n",
    "    \n",
    "    #this part creates the X0 and X1 coordinates\n",
    "    x0_array = np.zeros((this_shape[0], this_shape[1]), dtype=np.uint16)\n",
    "    for i0 in range(this_shape[0]):\n",
    "        x0_array[i0] = i0\n",
    "    \n",
    "    x1_array = np.zeros((this_shape[0], this_shape[1]), dtype=np.uint16)\n",
    "    for i1 in range(this_shape[1]):\n",
    "        x1_array[:, i1] = i1\n",
    "        \n",
    "    #loading the groundtruth\n",
    "#    gt = np.load(directory_gt + output_fname_annotated.replace('.jpg', '.npy'))\n",
    "    \n",
    "    output_array = np.zeros((this_shape[0], this_shape[1], len(method_list_cols)), dtype=this_dtype)\n",
    "#    print(this_shape, this_dtype, output_array.shape)\n",
    "    \n",
    "    start_index = 0\n",
    "    for each_method in methods_list:\n",
    "        fpath_to_add = directory_lbp_top + each_method + '/' + output_filename.replace('.tif', '.npy')\n",
    "        this_npoints = uf.getvaluefromstringbest(each_method, variable='npoints', mydtype=int)\n",
    "        array_to_add = np.load(fpath_to_add)\n",
    "        end_index = start_index + this_npoints\n",
    "        #add to the array\n",
    "#        print(fpath_to_add, start_index, end_index, array_to_add.shape)\n",
    "        output_array[:, :, start_index:end_index] = array_to_add\n",
    "        start_index = end_index\n",
    "    \n",
    "    #this part reshapes the arrays\n",
    "    reshaped = np.reshape(output_array, (-1, output_array.shape[2]))\n",
    "    reshaped_x0 = np.reshape(x0_array, (-1))\n",
    "    reshaped_x1 = np.reshape(x1_array, (-1))\n",
    "#    reshaped_gt = np.reshape(gt, (-1))\n",
    "    reshaped_gt = np.zeros(reshaped_x0.shape)\n",
    "        \n",
    "    this_AD = ad.AnnData(reshaped, var=method_list_cols, dtype=np.uint16)\n",
    "    \n",
    "    this_AD.obs['this_image_index'] = this_AD.obs.index\n",
    "    this_AD.obs['X0'] = reshaped_x0 \n",
    "    this_AD.obs['X1'] = reshaped_x1 \n",
    "    this_AD.obs['Groundtruth'] = reshaped_gt\n",
    "    this_AD.obs['original_index'] = j\n",
    "    this_AD.obs['output_filename'] = output_filename\n",
    "#    this_AD.obs['output_fname_annotated'] = output_fname_annotated\n",
    "    \n",
    "#    anndata_list.append(this_AD)\n",
    "#    if m == 0:\n",
    "#        anndata_concat = this_AD\n",
    "#    else:\n",
    "#        anndata_concat = ad.concat((anndata_concat, this_AD), axis=0)\n",
    "#    break\n",
    "    this_shape = this_AD.X.shape\n",
    "    out_array[n:n+this_shape[0]] = this_AD.X\n",
    "    print(n, n+this_shape[0])\n",
    "    n+=this_shape[0]\n",
    "    \n",
    "    obs_list.append(this_AD.obs)\n",
    "\n",
    "    m+=1"
   ]
  },
  {
   "cell_type": "code",
   "execution_count": 19,
   "id": "8c918ac2",
   "metadata": {},
   "outputs": [
    {
     "data": {
      "text/plain": [
       "12614"
      ]
     },
     "execution_count": 19,
     "metadata": {},
     "output_type": "execute_result"
    }
   ],
   "source": [
    "n"
   ]
  },
  {
   "cell_type": "code",
   "execution_count": 20,
   "id": "134d915d",
   "metadata": {
    "scrolled": true
   },
   "outputs": [
    {
     "data": {
      "text/plain": [
       "array([  0,  47,   0,  23,   0, 432,  46,   4,   8,   0,   3,   0,   0,\n",
       "         0,  47,   0,  23,   0, 432,  46,   4,   8,   0,   3,   0,   0,\n",
       "         0,  47,   0,  23,   0, 432,  46,   4,   8,   0,   3,   0,   0],\n",
       "      dtype=uint16)"
      ]
     },
     "execution_count": 20,
     "metadata": {},
     "output_type": "execute_result"
    }
   ],
   "source": [
    "out_array[n-1]"
   ]
  },
  {
   "cell_type": "code",
   "execution_count": 21,
   "id": "d580c131",
   "metadata": {
    "scrolled": true
   },
   "outputs": [
    {
     "name": "stdout",
     "output_type": "stream",
     "text": [
      "Index is out of bounds\n"
     ]
    }
   ],
   "source": [
    "try:\n",
    "    out_array[n]\n",
    "except:\n",
    "    print('Index is out of bounds')"
   ]
  },
  {
   "cell_type": "code",
   "execution_count": 22,
   "id": "39db40d2",
   "metadata": {},
   "outputs": [
    {
     "data": {
      "text/plain": [
       "array([[ 0, 21,  0, ...,  3,  0,  0],\n",
       "       [ 0, 20,  0, ...,  3,  0,  0],\n",
       "       [ 0, 19,  0, ...,  3,  0,  0],\n",
       "       ...,\n",
       "       [ 0, 26,  0, ...,  3,  0,  0],\n",
       "       [ 0, 38,  0, ...,  3,  0,  0],\n",
       "       [ 0, 47,  0, ...,  3,  0,  0]], dtype=uint16)"
      ]
     },
     "execution_count": 22,
     "metadata": {},
     "output_type": "execute_result"
    }
   ],
   "source": [
    "out_array_shortened = out_array[0:n]\n",
    "out_array_shortened"
   ]
  },
  {
   "cell_type": "code",
   "execution_count": 23,
   "id": "6880841f",
   "metadata": {},
   "outputs": [],
   "source": [
    "#anndata_concat.X.shape"
   ]
  },
  {
   "cell_type": "code",
   "execution_count": 24,
   "id": "98e9517b",
   "metadata": {},
   "outputs": [
    {
     "name": "stdout",
     "output_type": "stream",
     "text": [
      "2023-08-31 14:33:07.239368\n",
      "0:00:00.000793\n"
     ]
    }
   ],
   "source": [
    "start = datetime.now(); print(start)\n",
    "obs_concat = pd.concat(obs_list, ignore_index=True)\n",
    "print(datetime.now()-start)"
   ]
  },
  {
   "cell_type": "code",
   "execution_count": 25,
   "id": "8c25dfbb",
   "metadata": {},
   "outputs": [
    {
     "data": {
      "text/html": [
       "<div>\n",
       "<style scoped>\n",
       "    .dataframe tbody tr th:only-of-type {\n",
       "        vertical-align: middle;\n",
       "    }\n",
       "\n",
       "    .dataframe tbody tr th {\n",
       "        vertical-align: top;\n",
       "    }\n",
       "\n",
       "    .dataframe thead th {\n",
       "        text-align: right;\n",
       "    }\n",
       "</style>\n",
       "<table border=\"1\" class=\"dataframe\">\n",
       "  <thead>\n",
       "    <tr style=\"text-align: right;\">\n",
       "      <th></th>\n",
       "      <th>this_image_index</th>\n",
       "      <th>X0</th>\n",
       "      <th>X1</th>\n",
       "      <th>Groundtruth</th>\n",
       "      <th>original_index</th>\n",
       "      <th>output_filename</th>\n",
       "    </tr>\n",
       "  </thead>\n",
       "  <tbody>\n",
       "    <tr>\n",
       "      <th>0</th>\n",
       "      <td>0</td>\n",
       "      <td>0</td>\n",
       "      <td>0</td>\n",
       "      <td>0.0</td>\n",
       "      <td>0</td>\n",
       "      <td>V11J11-099__Z4_FO3_01__A1.tif</td>\n",
       "    </tr>\n",
       "    <tr>\n",
       "      <th>1</th>\n",
       "      <td>1</td>\n",
       "      <td>0</td>\n",
       "      <td>1</td>\n",
       "      <td>0.0</td>\n",
       "      <td>0</td>\n",
       "      <td>V11J11-099__Z4_FO3_01__A1.tif</td>\n",
       "    </tr>\n",
       "    <tr>\n",
       "      <th>2</th>\n",
       "      <td>2</td>\n",
       "      <td>0</td>\n",
       "      <td>2</td>\n",
       "      <td>0.0</td>\n",
       "      <td>0</td>\n",
       "      <td>V11J11-099__Z4_FO3_01__A1.tif</td>\n",
       "    </tr>\n",
       "    <tr>\n",
       "      <th>3</th>\n",
       "      <td>3</td>\n",
       "      <td>0</td>\n",
       "      <td>3</td>\n",
       "      <td>0.0</td>\n",
       "      <td>0</td>\n",
       "      <td>V11J11-099__Z4_FO3_01__A1.tif</td>\n",
       "    </tr>\n",
       "    <tr>\n",
       "      <th>4</th>\n",
       "      <td>4</td>\n",
       "      <td>0</td>\n",
       "      <td>4</td>\n",
       "      <td>0.0</td>\n",
       "      <td>0</td>\n",
       "      <td>V11J11-099__Z4_FO3_01__A1.tif</td>\n",
       "    </tr>\n",
       "    <tr>\n",
       "      <th>...</th>\n",
       "      <td>...</td>\n",
       "      <td>...</td>\n",
       "      <td>...</td>\n",
       "      <td>...</td>\n",
       "      <td>...</td>\n",
       "      <td>...</td>\n",
       "    </tr>\n",
       "    <tr>\n",
       "      <th>12609</th>\n",
       "      <td>12609</td>\n",
       "      <td>118</td>\n",
       "      <td>101</td>\n",
       "      <td>0.0</td>\n",
       "      <td>0</td>\n",
       "      <td>V11J11-099__Z4_FO3_01__A1.tif</td>\n",
       "    </tr>\n",
       "    <tr>\n",
       "      <th>12610</th>\n",
       "      <td>12610</td>\n",
       "      <td>118</td>\n",
       "      <td>102</td>\n",
       "      <td>0.0</td>\n",
       "      <td>0</td>\n",
       "      <td>V11J11-099__Z4_FO3_01__A1.tif</td>\n",
       "    </tr>\n",
       "    <tr>\n",
       "      <th>12611</th>\n",
       "      <td>12611</td>\n",
       "      <td>118</td>\n",
       "      <td>103</td>\n",
       "      <td>0.0</td>\n",
       "      <td>0</td>\n",
       "      <td>V11J11-099__Z4_FO3_01__A1.tif</td>\n",
       "    </tr>\n",
       "    <tr>\n",
       "      <th>12612</th>\n",
       "      <td>12612</td>\n",
       "      <td>118</td>\n",
       "      <td>104</td>\n",
       "      <td>0.0</td>\n",
       "      <td>0</td>\n",
       "      <td>V11J11-099__Z4_FO3_01__A1.tif</td>\n",
       "    </tr>\n",
       "    <tr>\n",
       "      <th>12613</th>\n",
       "      <td>12613</td>\n",
       "      <td>118</td>\n",
       "      <td>105</td>\n",
       "      <td>0.0</td>\n",
       "      <td>0</td>\n",
       "      <td>V11J11-099__Z4_FO3_01__A1.tif</td>\n",
       "    </tr>\n",
       "  </tbody>\n",
       "</table>\n",
       "<p>12614 rows × 6 columns</p>\n",
       "</div>"
      ],
      "text/plain": [
       "      this_image_index   X0   X1  Groundtruth  original_index                output_filename\n",
       "0                    0    0    0          0.0               0  V11J11-099__Z4_FO3_01__A1.tif\n",
       "1                    1    0    1          0.0               0  V11J11-099__Z4_FO3_01__A1.tif\n",
       "2                    2    0    2          0.0               0  V11J11-099__Z4_FO3_01__A1.tif\n",
       "3                    3    0    3          0.0               0  V11J11-099__Z4_FO3_01__A1.tif\n",
       "4                    4    0    4          0.0               0  V11J11-099__Z4_FO3_01__A1.tif\n",
       "...                ...  ...  ...          ...             ...                            ...\n",
       "12609            12609  118  101          0.0               0  V11J11-099__Z4_FO3_01__A1.tif\n",
       "12610            12610  118  102          0.0               0  V11J11-099__Z4_FO3_01__A1.tif\n",
       "12611            12611  118  103          0.0               0  V11J11-099__Z4_FO3_01__A1.tif\n",
       "12612            12612  118  104          0.0               0  V11J11-099__Z4_FO3_01__A1.tif\n",
       "12613            12613  118  105          0.0               0  V11J11-099__Z4_FO3_01__A1.tif\n",
       "\n",
       "[12614 rows x 6 columns]"
      ]
     },
     "execution_count": 25,
     "metadata": {},
     "output_type": "execute_result"
    }
   ],
   "source": [
    "obs_concat"
   ]
  },
  {
   "cell_type": "code",
   "execution_count": 26,
   "id": "76dc32f2",
   "metadata": {},
   "outputs": [],
   "source": [
    "#anndata_list[0].X"
   ]
  },
  {
   "cell_type": "code",
   "execution_count": 27,
   "id": "7e932748",
   "metadata": {},
   "outputs": [],
   "source": [
    "#anndata_list[1].X"
   ]
  },
  {
   "cell_type": "code",
   "execution_count": 28,
   "id": "689dc885",
   "metadata": {},
   "outputs": [],
   "source": [
    "#anndata_concat = ad.concat(anndata_list, axis=0, index_unique='-')\n",
    "#anndata_concat.obs.reset_index(inplace=True, drop=True)\n",
    "#anndata_concat.obs.index = anndata_concat.obs.index.astype(str)\n",
    "#anndata_concat.obs = pd.DataFrame(anndata_concat.obs.index, columns=['Here'])\n",
    "#anndata_concat.obs.index = anndata_concat.obs.index.astype(str)\n",
    "#anndata_concat.obs['output_filename'] = anndata_concat.obs['output_filename'].astype(str)\n",
    "#anndata_concat.var = pd.DataFrame(method_list_cols)\n",
    "#display(anndata_concat)\n",
    "#display(anndata_concat.var)\n",
    "#display(anndata_concat.obs)"
   ]
  },
  {
   "cell_type": "code",
   "execution_count": 29,
   "id": "cbca5a89",
   "metadata": {},
   "outputs": [
    {
     "data": {
      "text/plain": [
       "'0.9.2'"
      ]
     },
     "execution_count": 29,
     "metadata": {},
     "output_type": "execute_result"
    }
   ],
   "source": [
    "ad.__version__"
   ]
  },
  {
   "cell_type": "code",
   "execution_count": 30,
   "id": "84b8db7c",
   "metadata": {},
   "outputs": [
    {
     "name": "stdout",
     "output_type": "stream",
     "text": [
      "2023-08-31 14:33:07.272739\n",
      "0:00:00.000966\n"
     ]
    }
   ],
   "source": [
    "start = datetime.now(); print(start)\n",
    "np.save(directory_out + \"2023-07-07_LBP_all_images_data_X.npy\", out_array_shortened)\n",
    "print(datetime.now()-start)"
   ]
  },
  {
   "cell_type": "code",
   "execution_count": 31,
   "id": "42ed6264",
   "metadata": {},
   "outputs": [],
   "source": [
    "obs_concat.to_csv(directory_out + \"2023-07-07_LBP_all_images_data_OBS.csv\")"
   ]
  },
  {
   "cell_type": "code",
   "execution_count": 32,
   "id": "1ddaf052",
   "metadata": {},
   "outputs": [],
   "source": [
    "pd.DataFrame(method_list_cols).to_csv(directory_out + \"2023-07-07_LBP_all_images_data_VAR.csv\")"
   ]
  },
  {
   "cell_type": "code",
   "execution_count": 33,
   "id": "378c9aef",
   "metadata": {},
   "outputs": [],
   "source": [
    "#anndata_concat.write(\"2022-10-11_LBP_all_images_data.h5ad\")"
   ]
  }
 ],
 "metadata": {
  "kernelspec": {
   "display_name": "Python 3 (ipykernel)",
   "language": "python",
   "name": "python3"
  },
  "language_info": {
   "codemirror_mode": {
    "name": "ipython",
    "version": 3
   },
   "file_extension": ".py",
   "mimetype": "text/x-python",
   "name": "python",
   "nbconvert_exporter": "python",
   "pygments_lexer": "ipython3",
   "version": "3.11.0"
  }
 },
 "nbformat": 4,
 "nbformat_minor": 5
}
