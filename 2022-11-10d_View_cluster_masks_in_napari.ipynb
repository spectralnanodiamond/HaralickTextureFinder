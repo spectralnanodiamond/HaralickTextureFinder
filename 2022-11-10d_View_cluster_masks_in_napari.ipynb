{
 "cells": [
  {
   "cell_type": "markdown",
   "id": "5cf415e2",
   "metadata": {},
   "source": [
    "# View sequence of clustering images"
   ]
  },
  {
   "cell_type": "code",
   "execution_count": 1,
   "id": "5584ee1f",
   "metadata": {},
   "outputs": [],
   "source": [
    "# Use the novnc Desktop in the other window\n",
    "#Note that this has to be run first, and separately to the rest of the code for it to work\n",
    "import os\n",
    "os.environ['DISPLAY'] = ':1.0'\n",
    "#os.environ['NAPARI_ASYNC']='1'\n",
    "#os.environ['NAPARI_ASYNC']='1.0' #gives explicit error\n",
    "#del os.environ['NAPARI_ASYNC']\n",
    "#os.environ['NAPARI_OCTREE']='1'\n",
    "#del os.environ['NAPARI_OCTREE']\n",
    "# instantiate Qt GUI\n",
    "%gui qt5\n",
    "#os.environ"
   ]
  },
  {
   "cell_type": "code",
   "execution_count": 3,
   "id": "9ec160f9",
   "metadata": {},
   "outputs": [
    {
     "name": "stdout",
     "output_type": "stream",
     "text": [
      "0.4.17\n",
      "Loading Linux\n"
     ]
    }
   ],
   "source": [
    "import matplotlib.pyplot as plt\n",
    "import numpy as np\n",
    "import math\n",
    "from PIL import Image\n",
    "import cv2\n",
    "import skimage\n",
    "import tifffile as tf\n",
    "import os\n",
    "import pandas as pd\n",
    "import napari\n",
    "print(napari.__version__)\n",
    "from dask_image.imread import imread\n",
    "import dask.array as da\n",
    "import io\n",
    "\n",
    "import platform\n",
    "if platform.system() == 'Windows':\n",
    "    fileroot = 'X:/'\n",
    "    print('Loading Windows')\n",
    "if platform.system() == 'Linux':\n",
    "    fileroot = '/home/jovyan/'\n",
    "    print('Loading Linux')\n",
    "if False:\n",
    "    fileroot = '/home/ubuntu/Documents/'\n",
    "\n",
    "colors_new=['#0072b2','#d55e00','#009e73', '#cc79a7','#f0e442','#56b4e9']\n",
    "\n",
    "import sys\n",
    "sys.path.append(fileroot+'VU_TEX/Ben_utilities/')\n",
    "import useful_functions as uf\n",
    "import numba_funcs as nf\n"
   ]
  },
  {
   "cell_type": "code",
   "execution_count": 4,
   "id": "b04c4442",
   "metadata": {},
   "outputs": [],
   "source": [
    "from numba import njit\n",
    "from copy import deepcopy\n",
    "import matplotlib\n",
    "from matplotlib.colors import to_rgb, to_rgba\n",
    "from functools import partial\n",
    "from importlib import reload\n",
    "reload(nf)\n",
    "from tqdm import tqdm"
   ]
  },
  {
   "cell_type": "code",
   "execution_count": 5,
   "id": "88ef16b7",
   "metadata": {},
   "outputs": [],
   "source": [
    "from PIL import Image\n",
    "from skimage import color\n",
    "Image.MAX_IMAGE_PIXELS = 1000000000"
   ]
  },
  {
   "cell_type": "markdown",
   "id": "e6ed40d9",
   "metadata": {},
   "source": [
    "## Loading colors"
   ]
  },
  {
   "cell_type": "code",
   "execution_count": 6,
   "id": "7288c894",
   "metadata": {},
   "outputs": [
    {
     "name": "stdout",
     "output_type": "stream",
     "text": [
      "[[128 128 128]\n",
      " [  0 114 178]\n",
      " [213  94   0]\n",
      " [  0 158 115]\n",
      " [204 121 167]\n",
      " [240 228  66]\n",
      " [ 86 180 233]]\n",
      "{0: 'gray', 1: '#0072b2', 2: '#d55e00', 3: '#009e73', 4: '#cc79a7', 5: '#f0e442', 6: '#56b4e9'}\n"
     ]
    }
   ],
   "source": [
    "#colors = uf.return_color_scale('Omer_chosen_colors_dark_first')\n",
    "colors_with_inital_grey = deepcopy(colors_new)\n",
    "colors_with_inital_grey.insert(0, 'gray')\n",
    "rgb_colors_with_inital_grey = np.asarray(255*np.array([to_rgb(color) for color in colors_with_inital_grey]), int)\n",
    "print(rgb_colors_with_inital_grey)\n",
    "dict_colors = {i:color for i, color in enumerate(colors_with_inital_grey)}\n",
    "print(dict_colors )"
   ]
  },
  {
   "cell_type": "code",
   "execution_count": 7,
   "id": "7cee34a5",
   "metadata": {},
   "outputs": [
    {
     "data": {
      "text/plain": [
       "{0: array([0, 0, 0, 0]),\n",
       " 1: array([  0, 114, 178, 255]),\n",
       " 2: array([213,  94,   0, 255]),\n",
       " 3: array([  0, 158, 115, 255]),\n",
       " 4: array([204, 121, 167, 255]),\n",
       " 5: array([240, 228,  66, 255]),\n",
       " 6: array([ 86, 180, 233, 255])}"
      ]
     },
     "metadata": {},
     "output_type": "display_data"
    },
    {
     "data": {
      "text/plain": [
       "{0: array([0., 0., 0., 0.]),\n",
       " 1: array([0.        , 0.44705882, 0.69803922, 1.        ]),\n",
       " 2: array([0.83529412, 0.36862745, 0.        , 1.        ]),\n",
       " 3: array([0.        , 0.61960784, 0.45098039, 1.        ]),\n",
       " 4: array([0.8       , 0.4745098 , 0.65490196, 1.        ]),\n",
       " 5: array([0.94117647, 0.89411765, 0.25882353, 1.        ]),\n",
       " 6: array([0.3372549 , 0.70588235, 0.91372549, 1.        ])}"
      ]
     },
     "execution_count": 7,
     "metadata": {},
     "output_type": "execute_result"
    }
   ],
   "source": [
    "rgba_colors_with_inital_grey = np.asarray(255*np.array([to_rgba(color) for color in colors_with_inital_grey]), int)\n",
    "rgba_colors_with_inital_transparent = rgba_colors_with_inital_grey\n",
    "rgba_colors_with_inital_transparent[0] = 0\n",
    "rgba_colors_with_inital_transparent\n",
    "dict_colors_initial_transp = {i:color for i, color in enumerate(rgba_colors_with_inital_transparent)}\n",
    "display(dict_colors_initial_transp)\n",
    "dict_colors_initial_transp_0to1 = {i:color/255 for i, color in enumerate(rgba_colors_with_inital_transparent)}\n",
    "dict_colors_initial_transp_0to1"
   ]
  },
  {
   "cell_type": "code",
   "execution_count": 8,
   "id": "ec4659e6",
   "metadata": {},
   "outputs": [
    {
     "data": {
      "text/plain": [
       "{0: array([0., 0., 0., 0.]), 1: array([0., 0., 0., 1.])}"
      ]
     },
     "execution_count": 8,
     "metadata": {},
     "output_type": "execute_result"
    }
   ],
   "source": [
    "dict_gray_out_colors = {0:np.array([0,0,0,0], float), 1:np.array([0,0,0,1], float)}\n",
    "dict_gray_out_colors"
   ]
  },
  {
   "cell_type": "code",
   "execution_count": 9,
   "id": "a7d4a119",
   "metadata": {},
   "outputs": [
    {
     "name": "stdout",
     "output_type": "stream",
     "text": [
      "[[128 128 128]\n",
      " [  0 114 178]\n",
      " [213  94   0]\n",
      " [  0 158 115]\n",
      " [204 121 167]\n",
      " [240 228  66]\n",
      " [ 86 180 233]]\n",
      "{0: 'gray', 1: '#0072b2', 2: '#d55e00', 3: '#009e73', 4: '#cc79a7', 5: '#f0e442', 6: '#56b4e9'}\n"
     ]
    },
    {
     "data": {
      "text/plain": [
       "array([[0.50196078, 0.50196078, 0.50196078],\n",
       "       [0.        , 0.44705882, 0.69803922],\n",
       "       [0.83529412, 0.36862745, 0.        ],\n",
       "       [0.        , 0.61960784, 0.45098039],\n",
       "       [0.8       , 0.4745098 , 0.65490196],\n",
       "       [0.94117647, 0.89411765, 0.25882353],\n",
       "       [0.3372549 , 0.70588235, 0.91372549]])"
      ]
     },
     "execution_count": 9,
     "metadata": {},
     "output_type": "execute_result"
    }
   ],
   "source": [
    "rgb_colors_with_inital_grey = np.asarray(255*np.array([to_rgb(color) for color in colors_with_inital_grey]), int)\n",
    "print(rgb_colors_with_inital_grey)\n",
    "dict_colors = {i:color for i, color in enumerate(colors_with_inital_grey)}\n",
    "print(dict_colors)\n",
    "rgb_colors_with_inital_grey_0to1 = np.asarray(np.array([to_rgb(color) for color in colors_with_inital_grey]), float)\n",
    "rgb_colors_with_inital_grey_0to1"
   ]
  },
  {
   "cell_type": "markdown",
   "id": "82b018a7",
   "metadata": {},
   "source": [
    "## Loading data"
   ]
  },
  {
   "cell_type": "code",
   "execution_count": 10,
   "id": "9a294c77",
   "metadata": {},
   "outputs": [
    {
     "data": {
      "text/html": [
       "<div>\n",
       "<style scoped>\n",
       "    .dataframe tbody tr th:only-of-type {\n",
       "        vertical-align: middle;\n",
       "    }\n",
       "\n",
       "    .dataframe tbody tr th {\n",
       "        vertical-align: top;\n",
       "    }\n",
       "\n",
       "    .dataframe thead th {\n",
       "        text-align: right;\n",
       "    }\n",
       "</style>\n",
       "<table border=\"1\" class=\"dataframe\">\n",
       "  <thead>\n",
       "    <tr style=\"text-align: right;\">\n",
       "      <th></th>\n",
       "      <th>original_index</th>\n",
       "      <th>output_filename</th>\n",
       "      <th>image_width</th>\n",
       "      <th>image_height</th>\n",
       "    </tr>\n",
       "  </thead>\n",
       "  <tbody>\n",
       "    <tr>\n",
       "      <th>0</th>\n",
       "      <td>0</td>\n",
       "      <td>V11J11-099__Z4_FO3_01__A1_small.tif</td>\n",
       "      <td>5539</td>\n",
       "      <td>3739</td>\n",
       "    </tr>\n",
       "  </tbody>\n",
       "</table>\n",
       "</div>"
      ],
      "text/plain": [
       "   original_index                      output_filename  image_width   \n",
       "0               0  V11J11-099__Z4_FO3_01__A1_small.tif         5539  \\\n",
       "\n",
       "   image_height  \n",
       "0          3739  "
      ]
     },
     "execution_count": 10,
     "metadata": {},
     "output_type": "execute_result"
    }
   ],
   "source": [
    "#directory_images_metadata = fileroot + 'team283_imaging/' + '0ExternalData/2022-09-01_IVY_GAP/'\n",
    "#directory_images_metadata = fileroot + '0ExternalData/2022-09-01_IVY_GAP/'\n",
    "#filename_images_metadata = '2022-09-01_IVY_GAP_metadata.csv'\n",
    "#df_images_metadata = pd.read_csv(directory_images_metadata + filename_images_metadata, index_col=0)\n",
    "#df_images_metadata = df_images_metadata.loc[df_images_metadata['original_index'].isin([50, 594, 406, 418, \n",
    "#267, 290, 474, 231, 498, 217, \n",
    "#309, 544])]\n",
    "#df_images_metadata\n",
    "\n",
    "directory_originals = ['/mnt/hdd/bwoodhams/2023-07-05_Thymus/2023-07-05b_image_conversion_and_cropping/']\n",
    "filenames_originals = ['V11J11-099__Z4_FO3_01__A1.tif']\n",
    "fullpaths_originals = [directory_originals[0] + filenames_originals[0]]\n",
    "\n",
    "df_images_metadata = pd.DataFrame({'original_index': [0], 'output_filename':filenames_originals, \n",
    "                                 })\n",
    "this_shape = skimage.io.imread(fullpaths_originals[0]).shape\n",
    "df_images_metadata['image_width'] = this_shape[0]\n",
    "df_images_metadata['image_height'] = this_shape[1]\n",
    "df_images_metadata"
   ]
  },
  {
   "cell_type": "code",
   "execution_count": 11,
   "id": "fe4abe93",
   "metadata": {
    "scrolled": true
   },
   "outputs": [
    {
     "name": "stdout",
     "output_type": "stream",
     "text": [
      "V11J11-099__Z4_FO3_01__A1_small.tif\n"
     ]
    }
   ],
   "source": [
    "patchsize = 242\n",
    "this_original_index = 0 #594, 474\n",
    "#[50, 594, 406, 418, 267, 290, 474, 231, 498, 217, 309, 544] #474\n",
    "filename_img = df_images_metadata.loc[this_original_index]['output_filename']; print(filename_img)\n",
    "#filename_gt_original_res = df_images_metadata.loc[this_original_index]['output_filename_annotations']; \n",
    "#print(filename_gt_original_res)"
   ]
  },
  {
   "cell_type": "code",
   "execution_count": 12,
   "id": "8540b5dc",
   "metadata": {},
   "outputs": [],
   "source": [
    "directory_img = '/mnt/hdd/bwoodhams/2023-07-05_Thymus/2023-07-05b_image_conversion_and_cropping/'\n",
    "original = skimage.io.imread(directory_img + filename_img)\n",
    "final_target_size = 1"
   ]
  },
  {
   "cell_type": "code",
   "execution_count": 13,
   "id": "6f539b1c",
   "metadata": {},
   "outputs": [
    {
     "data": {
      "image/png": "[encoded data removed]",
      "text/plain": [
       "<Figure size 1500x300 with 1 Axes>"
      ]
     },
     "metadata": {},
     "output_type": "display_data"
    },
    {
     "data": {
      "image/png": "[encoded data removed]",
      "text/plain": [
       "<Figure size 1500x300 with 1 Axes>"
      ]
     },
     "metadata": {},
     "output_type": "display_data"
    },
    {
     "data": {
      "image/png": "[encoded data removed]",
      "text/plain": [
       "<Figure size 1500x300 with 1 Axes>"
      ]
     },
     "metadata": {},
     "output_type": "display_data"
    },
    {
     "data": {
      "image/png": "[encoded data removed]",
      "text/plain": [
       "<Figure size 1500x300 with 1 Axes>"
      ]
     },
     "metadata": {},
     "output_type": "display_data"
    },
    {
     "data": {
      "image/png": "[encoded data removed]",
      "text/plain": [
       "<Figure size 1500x300 with 1 Axes>"
      ]
     },
     "metadata": {},
     "output_type": "display_data"
    },
    {
     "data": {
      "image/png": "[encoded data removed]",
      "text/plain": [
       "<Figure size 1500x300 with 1 Axes>"
      ]
     },
     "metadata": {},
     "output_type": "display_data"
    },
    {
     "data": {
      "image/png": "[encoded data removed]",
      "text/plain": [
       "<Figure size 1500x300 with 1 Axes>"
      ]
     },
     "metadata": {},
     "output_type": "display_data"
    },
    {
     "data": {
      "image/png": "[encoded data removed]",
      "text/plain": [
       "<Figure size 1500x300 with 1 Axes>"
      ]
     },
     "metadata": {},
     "output_type": "display_data"
    },
    {
     "data": {
      "image/png": "[encoded data removed]",
      "text/plain": [
       "<Figure size 1500x300 with 1 Axes>"
      ]
     },
     "metadata": {},
     "output_type": "display_data"
    },
    {
     "data": {
      "image/png": "[encoded data removed]",
      "text/plain": [
       "<Figure size 1500x300 with 1 Axes>"
      ]
     },
     "metadata": {},
     "output_type": "display_data"
    },
    {
     "data": {
      "image/png": "[encoded data removed]",
      "text/plain": [
       "<Figure size 1500x300 with 1 Axes>"
      ]
     },
     "metadata": {},
     "output_type": "display_data"
    },
    {
     "data": {
      "image/png": "[encoded data removed]",
      "text/plain": [
       "<Figure size 1500x300 with 1 Axes>"
      ]
     },
     "metadata": {},
     "output_type": "display_data"
    },
    {
     "data": {
      "image/png": "[encoded data removed]",
      "text/plain": [
       "<Figure size 1500x300 with 1 Axes>"
      ]
     },
     "metadata": {},
     "output_type": "display_data"
    },
    {
     "data": {
      "image/png": "[encoded data removed]",
      "text/plain": [
       "<Figure size 1500x300 with 1 Axes>"
      ]
     },
     "metadata": {},
     "output_type": "display_data"
    },
    {
     "data": {
      "text/plain": [
       "{0: '#ffffff',\n",
       " 1: '#006400',\n",
       " 2: '#ff1493',\n",
       " 3: '#a6730a',\n",
       " 4: '#ff8c00',\n",
       " 5: '#00bfff',\n",
       " 6: '#0000ff',\n",
       " 7: '#ffd700',\n",
       " 8: '#800080',\n",
       " 9: '#000054',\n",
       " 10: '#000000',\n",
       " 11: '#545454',\n",
       " 12: '#a8a8a8',\n",
       " 13: '#ff9999'}"
      ]
     },
     "execution_count": 13,
     "metadata": {},
     "output_type": "execute_result"
    }
   ],
   "source": [
    "#directory_colors_metadata = fileroot + '0ExternalData/2022-09-01_IVY_GAP/'\n",
    "#filename_colors_metadata = '2022-09-02_colors_for_IVY_GAP.csv'\n",
    "#df_colors = pd.read_csv(directory_colors_metadata + filename_colors_metadata, index_col=0)\n",
    "#df_colors_out = df_colors.set_index('color_indices').loc[:, ['white_first']].squeeze().to_dict()\n",
    "#df_colors_out\n",
    "\n",
    "df_colors = uf.return_color_scale('block_colors_for_labels_against_white_small_points_white_first')\n",
    "df_colors_out = {i:each for i, each in enumerate(df_colors)}\n",
    "df_colors_out"
   ]
  },
  {
   "cell_type": "code",
   "execution_count": 14,
   "id": "557d6c1b",
   "metadata": {},
   "outputs": [
    {
     "data": {
      "text/plain": [
       "{1: '#006400',\n",
       " 2: '#ff1493',\n",
       " 3: '#a6730a',\n",
       " 4: '#ff8c00',\n",
       " 5: '#00bfff',\n",
       " 6: '#0000ff',\n",
       " 7: '#ffd700',\n",
       " 8: '#800080',\n",
       " 9: '#000054',\n",
       " 10: '#000000',\n",
       " 11: '#545454',\n",
       " 12: '#a8a8a8',\n",
       " 13: '#ff9999'}"
      ]
     },
     "execution_count": 14,
     "metadata": {},
     "output_type": "execute_result"
    }
   ],
   "source": [
    "df_colors_out_no_zero = {key:value for key,value in df_colors_out.items() if key != 0}\n",
    "df_colors_out_no_zero "
   ]
  },
  {
   "cell_type": "code",
   "execution_count": 15,
   "id": "fa67d44a",
   "metadata": {},
   "outputs": [],
   "source": [
    "#optional\n",
    "if False:\n",
    "    directory_gt_original_res = fileroot + '0ExternalData/2022-09-01_IVY_GAP/2022-09-02_integer_annotations/'\n",
    "    gt_45 = np.load(directory_gt_original_res + filename_gt_original_res.replace('.jpg', '.npy'))\n",
    "    print(np.unique(gt_45))\n",
    "    plt.imshow(gt_45)\n",
    "    plt.show()\n",
    "    rgb_gt_45 = uf.label2rgb_with_dict(gt_45, df_colors_out)\n",
    "    plt.imshow(rgb_gt_45)\n",
    "    plt.show()"
   ]
  },
  {
   "cell_type": "code",
   "execution_count": 16,
   "id": "100821fb",
   "metadata": {},
   "outputs": [
    {
     "data": {
      "text/plain": [
       "['C_0_Imageindex_0_rgb.npy', 'C_0_Imageindex_0_ints.npy']"
      ]
     },
     "execution_count": 16,
     "metadata": {},
     "output_type": "execute_result"
    }
   ],
   "source": [
    "directory_output_masks = 'HDBScan_Output_masks/'\n",
    "filenames = os.listdir(directory_output_masks)\n",
    "filenames"
   ]
  },
  {
   "cell_type": "code",
   "execution_count": 17,
   "id": "3c419532",
   "metadata": {},
   "outputs": [
    {
     "name": "stdout",
     "output_type": "stream",
     "text": [
      "['C_0_Imageindex_0_rgb.npy', 'C_0_Imageindex_0_ints.npy']\n",
      "C_0_Imageindex_0_ints.npy\n",
      "C_0_Imageindex_0_rgb.npy\n"
     ]
    },
    {
     "data": {
      "image/png": "[encoded data removed]",
      "text/plain": [
       "<Figure size 640x480 with 1 Axes>"
      ]
     },
     "metadata": {},
     "output_type": "display_data"
    },
    {
     "data": {
      "image/png": "[encoded data removed]",
      "text/plain": [
       "<Figure size 640x480 with 1 Axes>"
      ]
     },
     "metadata": {},
     "output_type": "display_data"
    }
   ],
   "source": [
    "from skimage import img_as_ubyte\n",
    "this_index_filenames = [each for each in filenames if 'Imageindex_'+str(this_original_index) in each]\n",
    "print(this_index_filenames)\n",
    "myfilename_ints = [each for each in this_index_filenames if 'ints' in each][0]\n",
    "print(myfilename_ints)\n",
    "myfilename_rgb = [each for each in this_index_filenames if 'rgb' in each][0]\n",
    "print(myfilename_rgb)\n",
    "intlabels = np.load(directory_output_masks + myfilename_ints)\n",
    "intlabels -= np.min(intlabels)\n",
    "plt.imshow(intlabels)\n",
    "plt.show()\n",
    "rgblabels = img_as_ubyte(np.load(directory_output_masks + myfilename_rgb))\n",
    "plt.imshow(rgblabels)\n",
    "plt.show()"
   ]
  },
  {
   "cell_type": "code",
   "execution_count": 18,
   "id": "859a90dd",
   "metadata": {},
   "outputs": [
    {
     "data": {
      "text/plain": [
       "array([0, 1, 2], dtype=int16)"
      ]
     },
     "execution_count": 18,
     "metadata": {},
     "output_type": "execute_result"
    }
   ],
   "source": [
    "np.unique(intlabels)"
   ]
  },
  {
   "cell_type": "code",
   "execution_count": 19,
   "id": "afd48610",
   "metadata": {},
   "outputs": [
    {
     "data": {
      "text/plain": [
       "{1: array([1. , 0.6, 0.6]),\n",
       " 2: array([0.        , 0.39215686, 0.        ]),\n",
       " 0: array([0.6, 0.6, 0.6])}"
      ]
     },
     "execution_count": 19,
     "metadata": {},
     "output_type": "execute_result"
    }
   ],
   "source": [
    "int_to_rgb_dict = uf.intlabels_and_rgblabels_to_dict(intlabels, rgblabels, list_to_ignore = [], divide_by_255=True)\n",
    "int_to_rgb_dict"
   ]
  },
  {
   "cell_type": "code",
   "execution_count": 20,
   "id": "47f4aa88",
   "metadata": {},
   "outputs": [
    {
     "data": {
      "text/plain": [
       "{1: array([1. , 0.6, 0.6]), 2: array([0.        , 0.39215686, 0.        ])}"
      ]
     },
     "execution_count": 20,
     "metadata": {},
     "output_type": "execute_result"
    }
   ],
   "source": [
    "int_to_rgb_dict_no_zero = uf.intlabels_and_rgblabels_to_dict(intlabels, rgblabels, list_to_ignore = [0], divide_by_255=True)\n",
    "int_to_rgb_dict_no_zero"
   ]
  },
  {
   "cell_type": "code",
   "execution_count": 21,
   "id": "724e9cff",
   "metadata": {},
   "outputs": [
    {
     "data": {
      "text/plain": [
       "(dtype('int16'), 2, 0)"
      ]
     },
     "execution_count": 21,
     "metadata": {},
     "output_type": "execute_result"
    }
   ],
   "source": [
    "intlabels.dtype, np.max(intlabels), np.min(intlabels)"
   ]
  },
  {
   "cell_type": "markdown",
   "id": "bd0b6e31",
   "metadata": {},
   "source": [
    "# Napari load"
   ]
  },
  {
   "cell_type": "code",
   "execution_count": 22,
   "id": "38de0073",
   "metadata": {},
   "outputs": [],
   "source": [
    "viewer = napari.Viewer()"
   ]
  },
  {
   "cell_type": "code",
   "execution_count": 23,
   "id": "3cebbf6e",
   "metadata": {},
   "outputs": [
    {
     "data": {
      "text/plain": [
       "[(5539, 3739, 3), (2770, 1870, 3), (1385, 935, 3), (693, 468, 3)]"
      ]
     },
     "execution_count": 23,
     "metadata": {},
     "output_type": "execute_result"
    }
   ],
   "source": [
    "#original_pyr = uf.get_pyramid_hybrid_loading(original, 2000, 200000)\n",
    "#original_pyr = [original[::i, ::i] for i in [1, 2, 4, 8, 16, 32]]\n",
    "#original_pyr = [original[::i, ::i] for i in [1, 2]]\n",
    "#original_pyr = [np.copy(original[::i, ::i]) for i in [1, 2]]\n",
    "#original_pyr = [np.copy(original[::i, ::i]) for i in [1, 2, 4, 8, 16, 32]]\n",
    "original_pyr = uf.get_pyramid_hybrid_loading(original, 1000, 200000)\n",
    "[each.shape for each in original_pyr]"
   ]
  },
  {
   "cell_type": "code",
   "execution_count": 24,
   "id": "cf73988f",
   "metadata": {},
   "outputs": [
    {
     "data": {
      "text/plain": [
       "[array([[[ 75,  44, 122],\n",
       "         [ 67,  40, 121],\n",
       "         [ 52,  34, 110],\n",
       "         ...,\n",
       "         [ 33,  19,  94],\n",
       "         [ 34,  21,  91],\n",
       "         [ 35,  19,  92]],\n",
       " \n",
       "        [[ 66,  42, 118],\n",
       "         [ 60,  33, 110],\n",
       "         [ 52,  31, 110],\n",
       "         ...,\n",
       "         [ 30,  18,  90],\n",
       "         [ 29,  16,  86],\n",
       "         [ 31,  19,  91]],\n",
       " \n",
       "        [[ 64,  37, 114],\n",
       "         [ 58,  33, 114],\n",
       "         [ 49,  32, 110],\n",
       "         ...,\n",
       "         [ 26,  15,  84],\n",
       "         [ 30,  15,  80],\n",
       "         [ 29,  14,  79]],\n",
       " \n",
       "        ...,\n",
       " \n",
       "        [[ 27,  17,  88],\n",
       "         [ 27,  19,  92],\n",
       "         [ 31,  19,  93],\n",
       "         ...,\n",
       "         [ 58,  38, 101],\n",
       "         [ 59,  36, 106],\n",
       "         [ 53,  35, 111]],\n",
       " \n",
       "        [[ 28,  16,  90],\n",
       "         [ 28,  15,  94],\n",
       "         [ 25,  17,  90],\n",
       "         ...,\n",
       "         [ 65,  43, 107],\n",
       "         [ 64,  38, 112],\n",
       "         [ 59,  35, 109]],\n",
       " \n",
       "        [[ 26,  14,  88],\n",
       "         [ 27,  17,  90],\n",
       "         [ 26,  16,  89],\n",
       "         ...,\n",
       "         [ 68,  41, 110],\n",
       "         [ 70,  39, 115],\n",
       "         [ 70,  39, 117]]], dtype=uint8),\n",
       " array([[[ 75,  44, 122],\n",
       "         [ 52,  34, 110],\n",
       "         [ 43,  27, 100],\n",
       "         ...,\n",
       "         [ 27,  17,  88],\n",
       "         [ 33,  19,  94],\n",
       "         [ 35,  19,  92]],\n",
       " \n",
       "        [[ 64,  37, 114],\n",
       "         [ 49,  32, 110],\n",
       "         [ 42,  30, 104],\n",
       "         ...,\n",
       "         [ 25,  15,  86],\n",
       "         [ 26,  15,  84],\n",
       "         [ 29,  14,  79]],\n",
       " \n",
       "        [[ 58,  38, 109],\n",
       "         [ 50,  32, 108],\n",
       "         [ 51,  34, 114],\n",
       "         ...,\n",
       "         [ 26,  15,  83],\n",
       "         [ 24,  12,  78],\n",
       "         [ 25,  10,  75]],\n",
       " \n",
       "        ...,\n",
       " \n",
       "        [[ 32,  21,  90],\n",
       "         [ 33,  23,  96],\n",
       "         [ 42,  28, 103],\n",
       "         ...,\n",
       "         [ 44,  24,  73],\n",
       "         [ 47,  29,  77],\n",
       "         [ 40,  30,  82]],\n",
       " \n",
       "        [[ 27,  17,  88],\n",
       "         [ 31,  19,  93],\n",
       "         [ 33,  22,  91],\n",
       "         ...,\n",
       "         [ 50,  33,  85],\n",
       "         [ 58,  38, 101],\n",
       "         [ 53,  35, 111]],\n",
       " \n",
       "        [[ 26,  14,  88],\n",
       "         [ 26,  16,  89],\n",
       "         [ 29,  17,  81],\n",
       "         ...,\n",
       "         [ 59,  39, 102],\n",
       "         [ 68,  41, 110],\n",
       "         [ 70,  39, 117]]], dtype=uint8),\n",
       " array([[[ 75,  44, 122],\n",
       "         [ 43,  27, 100],\n",
       "         [ 33,  25, 100],\n",
       "         ...,\n",
       "         [ 25,  14,  83],\n",
       "         [ 26,  16,  85],\n",
       "         [ 33,  19,  94]],\n",
       " \n",
       "        [[ 58,  38, 109],\n",
       "         [ 51,  34, 114],\n",
       "         [ 39,  26,  95],\n",
       "         ...,\n",
       "         [ 22,  11,  79],\n",
       "         [ 22,  14,  87],\n",
       "         [ 24,  12,  78]],\n",
       " \n",
       "        [[ 82,  53, 133],\n",
       "         [ 76,  48, 135],\n",
       "         [ 69,  42, 121],\n",
       "         ...,\n",
       "         [ 20,  11,  74],\n",
       "         [ 27,  15,  87],\n",
       "         [ 21,  13,  73]],\n",
       " \n",
       "        ...,\n",
       " \n",
       "        [[ 74,  45, 109],\n",
       "         [ 68,  41, 110],\n",
       "         [ 40,  27,  97],\n",
       "         ...,\n",
       "         [ 40,  22, 106],\n",
       "         [ 43,  24, 103],\n",
       "         [ 59,  38, 105]],\n",
       " \n",
       "        [[ 33,  23,  92],\n",
       "         [ 56,  36, 121],\n",
       "         [ 54,  32, 107],\n",
       "         ...,\n",
       "         [ 61,  36, 120],\n",
       "         [ 56,  35, 112],\n",
       "         [ 48,  30,  88]],\n",
       " \n",
       "        [[ 27,  17,  88],\n",
       "         [ 33,  22,  91],\n",
       "         [ 92,  51, 130],\n",
       "         ...,\n",
       "         [100,  51, 142],\n",
       "         [ 50,  29,  88],\n",
       "         [ 58,  38, 101]]], dtype=uint8),\n",
       " array([[[ 75,  44, 122],\n",
       "         [ 33,  25, 100],\n",
       "         [ 52,  36, 109],\n",
       "         ...,\n",
       "         [ 37,  18,  97],\n",
       "         [ 25,  14,  83],\n",
       "         [ 33,  19,  94]],\n",
       " \n",
       "        [[ 82,  53, 133],\n",
       "         [ 69,  42, 121],\n",
       "         [ 63,  39, 123],\n",
       "         ...,\n",
       "         [ 30,  15,  82],\n",
       "         [ 20,  11,  74],\n",
       "         [ 21,  13,  73]],\n",
       " \n",
       "        [[101,  58, 130],\n",
       "         [ 55,  32, 104],\n",
       "         [ 36,  24, 100],\n",
       "         ...,\n",
       "         [ 25,  13,  75],\n",
       "         [ 22,  14,  89],\n",
       "         [ 37,  21,  86]],\n",
       " \n",
       "        ...,\n",
       " \n",
       "        [[ 69,  45,  97],\n",
       "         [ 76,  45, 104],\n",
       "         [ 71,  41, 129],\n",
       "         ...,\n",
       "         [ 49,  26, 106],\n",
       "         [ 42,  24, 108],\n",
       "         [ 54,  32, 117]],\n",
       " \n",
       "        [[ 74,  45, 109],\n",
       "         [ 40,  27,  97],\n",
       "         [ 41,  25,  96],\n",
       "         ...,\n",
       "         [ 63,  29, 115],\n",
       "         [ 40,  22, 106],\n",
       "         [ 59,  38, 105]],\n",
       " \n",
       "        [[ 27,  17,  88],\n",
       "         [ 92,  51, 130],\n",
       "         [ 41,  25,  87],\n",
       "         ...,\n",
       "         [118,  61, 114],\n",
       "         [100,  51, 142],\n",
       "         [ 58,  38, 101]]], dtype=uint8)]"
      ]
     },
     "execution_count": 24,
     "metadata": {},
     "output_type": "execute_result"
    }
   ],
   "source": [
    "original_pyr"
   ]
  },
  {
   "cell_type": "code",
   "execution_count": 25,
   "id": "c19702dd",
   "metadata": {},
   "outputs": [
    {
     "data": {
      "text/plain": [
       "<Image layer 'Original image' at 0x7fd0b80c5cd0>"
      ]
     },
     "execution_count": 25,
     "metadata": {},
     "output_type": "execute_result"
    }
   ],
   "source": [
    "viewer.add_image(original_pyr, name='Original image')\n",
    "#viewer.add_image(original, name='Original image')"
   ]
  },
  {
   "cell_type": "code",
   "execution_count": 26,
   "id": "662890a8",
   "metadata": {},
   "outputs": [],
   "source": [
    "#optional\n",
    "if 'gt' in globals():\n",
    "    gt_pyr = uf.get_pyramid_hybrid_loading(gt, 1000, 200000)\n",
    "    viewer.add_labels(gt_pyr, name='Groundtruth', visible=False, color=int_to_rgb_dict,)"
   ]
  },
  {
   "cell_type": "code",
   "execution_count": 27,
   "id": "07e79161",
   "metadata": {},
   "outputs": [],
   "source": [
    "#optional\n",
    "if 'gt_45' in globals() and True:\n",
    "    gt_45_upsize = uf.upsize(gt_45, 45)\n",
    "    gt_45_pyr = uf.get_pyramid_hybrid_loading(gt_45_upsize, 1000, 200000)\n",
    "    viewer.add_labels(gt_45_pyr, name='Groundtruth_clusters', visible=False, color=df_colors_out)\n",
    "    \n",
    "    output_edges_gt_45 = nf.get_edges_of_cluster_shapes_with_partial_upscale(gt_45, rgb_gt_45, k=6,\n",
    "                                                                       partial_upscale = 5,\n",
    "                                                                       final_upscale = 45,\n",
    "                                                                      image_edges_drawn = True,\n",
    "                                                                      output_type='int')\n",
    "\n",
    "    pyr_cluster_edges_gt_45 = uf.get_pyramid_hybrid_loading(output_edges_gt_45, 1000, 200000)\n",
    "\n",
    "    viewer.add_labels(pyr_cluster_edges_gt_45, color = df_colors_out_no_zero, name='Groundtruth_edges', opacity=1)"
   ]
  },
  {
   "cell_type": "code",
   "execution_count": 28,
   "id": "d8d80b6c",
   "metadata": {},
   "outputs": [],
   "source": [
    "@njit\n",
    "def rgb2labelint_iterator(img, array_of_colors):\n",
    "    output = np.zeros((img.shape[0], img.shape[1]), dtype=img.dtype)\n",
    "    len_array_colors = len(array_of_colors)\n",
    "    for i in range(img.shape[0]):\n",
    "        for j in range(img.shape[1]):\n",
    "            for k in range(len_array_colors):\n",
    "                if np.all(np.equal(array_of_colors[k], img[i,j])):\n",
    "                    output[i,j] = k\n",
    "#            output[i,j] = np.argmax(np.all(np.equal(img[i,j], array_of_colors), axis=1))\n",
    "    return output\n",
    "    \n",
    "    \n",
    "def rgb2labelint(img, array_of_colors = None):\n",
    "    if array_of_colors is None:\n",
    "        array_of_colors = np.unique(myimg.reshape(-1, myimg.shape[2]), axis=0)\n",
    "    output = rgb2labelint_iterator(img, array_of_colors)\n",
    "    return output\n",
    "\n",
    "#intlabels = rgb2labelint(myimg, rgb_colors_with_inital_grey)\n",
    "#plt.figure(figsize=(25,5))\n",
    "#plt.imshow(intlabels)"
   ]
  },
  {
   "cell_type": "code",
   "execution_count": 30,
   "id": "fe78b84a",
   "metadata": {},
   "outputs": [],
   "source": [
    "partial_upscale = 10\n",
    "#this the partial upscale needed for creating the edges labels layer\n",
    "#the higher this number, the smoother the edges are displayed but the slower it takes\n",
    "final_upscale = int(patchsize / (final_target_size))\n",
    "    \n",
    "#This next part grays out the areas that are not part of clusters\n",
    "if True:\n",
    "    not_clusters_yet = nf.upsize(intlabels <= 0, patchsize)\n",
    "    pyr_not_clusters = uf.get_pyramid_hybrid_loading(not_clusters_yet, 1000, 2000000)\n",
    "    viewer.add_labels(pyr_not_clusters, color=dict_gray_out_colors, \n",
    "                      name='Part of any cluster', visible=False)\n",
    "\n",
    "#This next part creates a labels layer that shows the edges of the clusters\n",
    "if True:\n",
    "#    rgbalabels = nf.convert_rgb_to_rgba(rgblabels, transparent=np.array([255, 255, 255]), transparency_val = 255)\n",
    "    output_edges = nf.get_edges_of_cluster_shapes_with_partial_upscale(intlabels, rgblabels, k=4,\n",
    "                                                                       partial_upscale = partial_upscale,\n",
    "                                                                       final_upscale = final_upscale,\n",
    "                                                                      image_edges_drawn = True,\n",
    "                                                                      output_type='int')\n",
    "#    intlabels_partial_upsize = nf.upsize(intlabels, partial_upscale)\n",
    "#    rgblabels_partial_upsize = nf.upsize2(rgblabels, partial_upscale)\n",
    "\n",
    "#    output_edges = nf.get_edges_of_cluster_shapes(intlabels_partial_upsize, rgblabels_partial_upsize, k=4)\n",
    "#    output_edges_labels_for_int_layer = rgb2labelint(output_edges, rgb_colors_with_inital_grey)    \n",
    "#    output_edges_labels_for_int_layer_fullsize = nf.upsize(output_edges_labels_for_int_layer, further_upscale)\n",
    "\n",
    "#    pyr_cluster_edges = uf.get_pyramid_hybrid_loading(output_edges_labels_for_int_layer_fullsize, 2000, 2000000)\n",
    "#    pyr_cluster_edges = [output_edges[::i, ::i] for i in [1, 2, 4, 8, 16, 32]]\n",
    "    pyr_cluster_edges = uf.get_pyramid_hybrid_loading(output_edges, 1000, 200000)\n",
    "#    viewer.add_labels(pyr_cluster_edges, color=dict_colors_initial_transp_0to1, \n",
    "#                      name='Cluster edges', visible=False, opacity=1)\n",
    "    viewer.add_labels(pyr_cluster_edges, color = int_to_rgb_dict_no_zero, name='Our edges', opacity=1)\n",
    "\n",
    "#This next part shows the clusters as shaded patches\n",
    "if True:\n",
    "    intlabels_upsized = nf.upsize(intlabels, final_upscale)\n",
    "    intlabels_pyr = uf.get_pyramid_hybrid_loading(intlabels_upsized, 1000, 200000)\n",
    "    viewer.add_labels(intlabels_pyr, color=int_to_rgb_dict, \n",
    "                      name='Our clusters', opacity=0.2, visible=False)\n",
    "#    cluster_patches_int = rgb2labelint(rgblabels_partial_upsize, rgb_colors_with_inital_grey)\n",
    "#    cluster_patches_int_fullsize = nf.upsize(cluster_patches_int, further_upscale)\n",
    "#    img_clusters = uf.get_pyramid_hybrid_loading(cluster_patches_int_fullsize, 2000, 2000000)\n",
    "#    viewer.add_labels(img_clusters, color=dict_colors_initial_transp_0to1, \n",
    "#                      name='Shaded clusters', opacity=0.2)"
   ]
  }
 ],
 "metadata": {
  "kernelspec": {
   "display_name": "Python 3 (ipykernel)",
   "language": "python",
   "name": "python3"
  },
  "language_info": {
   "codemirror_mode": {
    "name": "ipython",
    "version": 3
   },
   "file_extension": ".py",
   "mimetype": "text/x-python",
   "name": "python",
   "nbconvert_exporter": "python",
   "pygments_lexer": "ipython3",
   "version": "3.11.0"
  }
 },
 "nbformat": 4,
 "nbformat_minor": 5
}
